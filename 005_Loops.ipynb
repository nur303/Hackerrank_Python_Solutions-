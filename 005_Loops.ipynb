{
  "nbformat": 4,
  "nbformat_minor": 0,
  "metadata": {
    "colab": {
      "provenance": [],
      "authorship_tag": "ABX9TyNVCY5bGUHLQmXd2gv0Rq9s"
    },
    "kernelspec": {
      "name": "python3",
      "display_name": "Python 3"
    },
    "language_info": {
      "name": "python"
    }
  },
  "cells": [
    {
      "cell_type": "markdown",
      "source": [
        "# 005 - Loops\n",
        "## Task\n",
        "Read an integer `N`. For all non-negative integers `i < N`, print **i<sup>2</sup>**. See the sample for details.\n",
        "\n",
        "#### Input Format\n",
        "\n",
        "The first and only line contains the integer, `N`.\n",
        "\n",
        "#### Constraints\n",
        "1 <= N <= 20\n",
        "\n",
        "#### Output Format\n",
        "\n",
        "Print `N` lines, one corresponding to each `i`.\n",
        "\n",
        "```\n",
        "Sample Input :\n",
        "5\n",
        "```\n",
        "\n",
        "```\n",
        "Sample Output :\n",
        "0\n",
        "1\n",
        "4\n",
        "9\n",
        "16\n",
        "```\n",
        "\n",
        "#### Given Code\n",
        "\n",
        "```python\n",
        "if __name__ == '__main__':\n",
        "    n = int(input())\n",
        "```\n"
      ],
      "metadata": {
        "id": "dcDw3q58IdC7"
      }
    },
    {
      "cell_type": "markdown",
      "source": [
        "## Solution 1"
      ],
      "metadata": {
        "id": "5LhdSqUhIf29"
      }
    },
    {
      "cell_type": "code",
      "execution_count": 1,
      "metadata": {
        "colab": {
          "base_uri": "https://localhost:8080/"
        },
        "id": "GQ-Peo7WIXUW",
        "outputId": "3aeaf151-ff93-41fb-9db7-0e917c083e50"
      },
      "outputs": [
        {
          "output_type": "stream",
          "name": "stdout",
          "text": [
            "5\n",
            "0\n",
            "1\n",
            "4\n",
            "9\n",
            "16\n"
          ]
        }
      ],
      "source": [
        "if __name__ == '__main__':\n",
        "    n = int(input())\n",
        "\n",
        "    for i in range(n):\n",
        "        print(i**2)"
      ]
    },
    {
      "cell_type": "markdown",
      "source": [
        "## Solution 2"
      ],
      "metadata": {
        "id": "r650U5PNIkbe"
      }
    },
    {
      "cell_type": "code",
      "source": [
        "if __name__ == '__main__':\n",
        "    n = int(input())\n",
        "    i = 0\n",
        "    while i < n:\n",
        "        r = i * i\n",
        "        i = i + 1\n",
        "        print(r)"
      ],
      "metadata": {
        "colab": {
          "base_uri": "https://localhost:8080/"
        },
        "id": "EWOU1XK7Ip8a",
        "outputId": "b1344bab-d0a8-4879-ac0e-509f12a99251"
      },
      "execution_count": 2,
      "outputs": [
        {
          "output_type": "stream",
          "name": "stdout",
          "text": [
            "5\n",
            "0\n",
            "1\n",
            "4\n",
            "9\n",
            "16\n"
          ]
        }
      ]
    }
  ]
}