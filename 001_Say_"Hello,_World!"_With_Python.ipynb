{
  "nbformat": 4,
  "nbformat_minor": 0,
  "metadata": {
    "colab": {
      "provenance": [],
      "authorship_tag": "ABX9TyN3lXbBBRnlV38IqUAS5o+Y"
    },
    "kernelspec": {
      "name": "python3",
      "display_name": "Python 3"
    },
    "language_info": {
      "name": "python"
    }
  },
  "cells": [
    {
      "cell_type": "markdown",
      "source": [
        "# 001 - Say \"Hello, World!\" With Python\n",
        "## Problem\n",
        "\n",
        "Here is a sample line of code that can be executed in Python:\n",
        "\n",
        "```python\n",
        "print(\"Hello, World!\")\n",
        "```\n",
        "\n",
        "You can just as easily store a string as a variable and then print it to stdout:\n",
        "\n",
        "```python\n",
        "my_string = \"Hello, World!\"\n",
        "print(my_string)\n",
        "```\n",
        "\n",
        "The above code will print `Hello, World!` on your screen.\n",
        "\n",
        "***Input Format***\n",
        "\n",
        "You do not need to read any input in this challenge.\n",
        "\n",
        "***Output Format***\n",
        "\n",
        "Print `Hello, World!` to stdout.\n",
        "\n",
        "***Sample Output 0***\n",
        "\n",
        "```\n",
        "Hello, World!\n",
        "```\n",
        "\n",
        "---\n",
        "\n",
        "## Solution\n",
        "```python\n",
        "print(\"Hello, World!\")\n",
        "```"
      ],
      "metadata": {
        "id": "cGkIS8fsxuoj"
      }
    }
  ]
}