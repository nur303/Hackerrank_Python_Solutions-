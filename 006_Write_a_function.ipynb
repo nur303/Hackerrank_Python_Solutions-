{
  "nbformat": 4,
  "nbformat_minor": 0,
  "metadata": {
    "colab": {
      "provenance": [],
      "authorship_tag": "ABX9TyM86Kk3wvPz2ldODwJzrbJS"
    },
    "kernelspec": {
      "name": "python3",
      "display_name": "Python 3"
    },
    "language_info": {
      "name": "python"
    }
  },
  "cells": [
    {
      "cell_type": "markdown",
      "source": [
        "# 006 - Write a function\n",
        "## Task\n",
        "We add a Leap Day on February 29, almost every four years. The leap day is an extra, or intercalary day and we add it to the shortest month of the year, February.\n",
        "\n",
        "In the Gregorian calendar three criteria must be taken into account to identify leap years:\n",
        "* The year can be evenly divided by 4, is a leap year, unless:\n",
        "* The year can be evenly divided by 100, it is NOT a leap year, unless:\n",
        "* The year is also evenly divisible by 400. Then it is a leap year.\n",
        "\n",
        "This means that in the Gregorian calendar, the years 2000 and 2400 are leap years, while 1800, 1900, 2100, 2200, 2300 and 2500 are NOT leap years.\n",
        "\n",
        "You are given the year, and you have to write a function to check if the year is leap or not.\n",
        "\n",
        "Note that you have to complete the function and remaining code is given as template.\n",
        "\n",
        "#### Input Format\n",
        "\n",
        "Read y, the year that needs to be checked.\n",
        "\n",
        "#### Constraints\n",
        "1900 <= y <= 10<sup>5</sup>\n",
        "\n",
        "#### Output Format\n",
        "\n",
        "Output is taken care of by the template. Your function must return a boolean value (True/False)\n",
        "\n",
        "```\n",
        "Sample Input :\n",
        "1990\n",
        "```\n",
        "\n",
        "```\n",
        "Sample Output :\n",
        "False\n",
        "```\n",
        "\n",
        "#### Explanation\n",
        "1990 is not a multiple of 4 hence it's not a leap year.\n",
        "\n",
        "#### Given Code\n",
        "\n",
        "```python\n",
        "def is_leap(year):\n",
        "    leap = False\n",
        "\n",
        "    # Write your logic here\n",
        "\n",
        "    return leap\n",
        "\n",
        "year = int(input())\n",
        "print(is_leap(year))\n",
        "```"
      ],
      "metadata": {
        "id": "nlVwExIq_taJ"
      }
    },
    {
      "cell_type": "markdown",
      "source": [
        "## Solution 1"
      ],
      "metadata": {
        "id": "bJyGGAyi_uzN"
      }
    },
    {
      "cell_type": "code",
      "execution_count": 1,
      "metadata": {
        "colab": {
          "base_uri": "https://localhost:8080/"
        },
        "id": "ZSe-0qII_qR6",
        "outputId": "4ae3a3d2-0300-4668-a1ed-f4c4a2f758dd"
      },
      "outputs": [
        {
          "output_type": "stream",
          "name": "stdout",
          "text": [
            "1999\n",
            "False\n"
          ]
        }
      ],
      "source": [
        "def is_leap(year):\n",
        "    return year % 4 == 0 and (year % 100 != 0 or year % 400 == 0)\n",
        "\n",
        "year = int(input())\n",
        "print(is_leap(year))"
      ]
    },
    {
      "cell_type": "markdown",
      "source": [
        "## Solution 2"
      ],
      "metadata": {
        "id": "02YlZurS_t2f"
      }
    },
    {
      "cell_type": "code",
      "source": [
        "def is_leap(year):\n",
        "    leap = False\n",
        "\n",
        "    # Write your logic here\n",
        "    if year % 4 == 0:\n",
        "        if year % 100 == 0 :\n",
        "            if year % 400 == 0:\n",
        "                leap = True\n",
        "            else:\n",
        "                leap = False\n",
        "        else:\n",
        "            leap = True\n",
        "    else :\n",
        "        leap = False\n",
        "    return leap\n",
        "\n",
        "year = int(input())\n",
        "print(is_leap(year))"
      ],
      "metadata": {
        "colab": {
          "base_uri": "https://localhost:8080/"
        },
        "id": "DXCBtcK1ALwP",
        "outputId": "c40b25e3-157d-4f19-cae3-0dc745f9be7d"
      },
      "execution_count": 2,
      "outputs": [
        {
          "output_type": "stream",
          "name": "stdout",
          "text": [
            "1999\n",
            "False\n"
          ]
        }
      ]
    }
  ]
}