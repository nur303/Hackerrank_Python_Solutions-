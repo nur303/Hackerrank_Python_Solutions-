{
  "nbformat": 4,
  "nbformat_minor": 0,
  "metadata": {
    "colab": {
      "provenance": [],
      "authorship_tag": "ABX9TyP1Of5RaICe0zwf0znc0rDi"
    },
    "kernelspec": {
      "name": "python3",
      "display_name": "Python 3"
    },
    "language_info": {
      "name": "python"
    }
  },
  "cells": [
    {
      "cell_type": "markdown",
      "source": [
        "# 002 - Python If-Else\n",
        "## Problem\n",
        "\n",
        "Given an integer, `n`, perform the following conditional actions:\n",
        "\n",
        "- If `n` is odd, print `Weird`\n",
        "- If `n` is even and in the inclusive range of 2 to 5, print `Not Weird`\n",
        "- If `n` is even and in the inclusive range of 6 to 20, print `Weird`\n",
        "- If `n` is even and greater than 20, print `Not Weird`\n",
        "\n",
        "#### Input Format\n",
        "A single line containing a positive integer, `n`.\n",
        "\n",
        "#### Constraints\n",
        "1 <= n <= 100\n",
        "\n",
        "#### Output Format\n",
        "Print `Weird\u001d` if the number is weird; otherwise, print `Not Weird`.\n",
        "\n",
        "```\n",
        "Sample Inputs\n",
        "3\n",
        "24\n",
        "```\n",
        "\n",
        "```\n",
        "Sample Output\n",
        "Weird\n",
        "Not Weird\n",
        "```"
      ],
      "metadata": {
        "id": "iu1f7v-KvNik"
      }
    },
    {
      "cell_type": "markdown",
      "source": [
        "# ** Given Code**"
      ],
      "metadata": {
        "id": "P7FdIMnwv3LR"
      }
    },
    {
      "cell_type": "code",
      "execution_count": null,
      "metadata": {
        "id": "bZn1GYpIvMxN"
      },
      "outputs": [],
      "source": [
        "```python\n",
        "if __name__ == '__main__':\n",
        "    n = int(input().strip())\n",
        "```"
      ]
    },
    {
      "cell_type": "markdown",
      "source": [
        "## Solution 1"
      ],
      "metadata": {
        "id": "NneoHqbSwDLz"
      }
    },
    {
      "cell_type": "code",
      "source": [
        "def weirdo(num):\n",
        "    if num % 2 != 0:\n",
        "        return \"Weird\"\n",
        "    else:\n",
        "        if 2 <= num <= 5:\n",
        "            return \"Not Weird\"\n",
        "        elif 6 <= num <= 20:\n",
        "            return \"Weird\"\n",
        "        elif num > 20:\n",
        "            return \"Not Weird\"\n",
        "\n",
        "\n",
        "if __name__ == '__main__':\n",
        "    n = int(input().strip())            def weirdo(num):\n",
        "    if num % 2 != 0:\n",
        "        return \"Weird\"\n",
        "    else:\n",
        "        if 2 <= num <= 5:\n",
        "            return \"Not Weird\"\n",
        "        elif 6 <= num <= 20:\n",
        "            return \"Weird\"\n",
        "        elif num > 20:\n",
        "            return \"Not Weird\"\n",
        "\n",
        "\n",
        "if __name__ == '__main__':\n",
        "    n = int(input().strip())"
      ],
      "metadata": {
        "id": "8pVJa4W7wJJq"
      },
      "execution_count": null,
      "outputs": []
    },
    {
      "cell_type": "markdown",
      "source": [],
      "metadata": {
        "id": "BpaYOMlywP_8"
      }
    },
    {
      "cell_type": "markdown",
      "source": [
        "## Solution 2"
      ],
      "metadata": {
        "id": "tgiosls1wSe0"
      }
    },
    {
      "cell_type": "code",
      "source": [
        "def odd(num):\n",
        "    if num % 2 != 0:\n",
        "        return \"Weird\"\n",
        "    else:\n",
        "        return even(num)\n",
        "\n",
        "def even(num):\n",
        "    if 2 <= num <= 5:\n",
        "        return \"Not Weird\"\n",
        "    elif 6 <= num <= 20:\n",
        "        return \"Weird\"\n",
        "    elif num > 20:\n",
        "        return \"Not Weird\"\n",
        "\n",
        "N = int(input())\n",
        "print(odd(N))"
      ],
      "metadata": {
        "id": "-eU3m-BMwVY6"
      },
      "execution_count": null,
      "outputs": []
    }
  ]
}