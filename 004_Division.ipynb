{
  "nbformat": 4,
  "nbformat_minor": 0,
  "metadata": {
    "colab": {
      "provenance": [],
      "authorship_tag": "ABX9TyMIUf14lxkOg8mUKbw+ktO3"
    },
    "kernelspec": {
      "name": "python3",
      "display_name": "Python 3"
    },
    "language_info": {
      "name": "python"
    }
  },
  "cells": [
    {
      "cell_type": "markdown",
      "source": [
        "# 004 - Division\n",
        "## Task\n",
        "Read two integers and print two lines. The first line should contain integer division,  `a` // `b` . The second line should contain float division,  `a`/`b` .\n",
        "\n",
        "You don't need to perform any rounding or formatting operations.\n",
        "\n",
        "#### Input Format\n",
        "\n",
        "The first line contains the first integer, `a`. The second line contains the second integer, `b`.\n",
        "\n",
        "\n",
        "#### Output Format\n",
        "\n",
        "Print the two lines as described above.\n",
        "\n",
        "```\n",
        "Sample Input :\n",
        "4\n",
        "3\n",
        "```\n",
        "\n",
        "```\n",
        "Sample Output :\n",
        "1\n",
        "1.33333333333\n",
        "```\n",
        "\n",
        "#### Given Code\n",
        "\n",
        "```python\n",
        "if __name__ == '__main__':\n",
        "    a = int(input())\n",
        "    b = int(input())\n",
        "```"
      ],
      "metadata": {
        "id": "04ttlvpj-0UY"
      }
    },
    {
      "cell_type": "markdown",
      "source": [
        "## Solution 1"
      ],
      "metadata": {
        "id": "yU6aKwNg-6NO"
      }
    },
    {
      "cell_type": "code",
      "source": [
        "if __name__ == '__main__':\n",
        "    a = int(input())\n",
        "    b = int(input())\n",
        "\n",
        "    print(int(a / b))\n",
        "    print(float(a / b))"
      ],
      "metadata": {
        "colab": {
          "base_uri": "https://localhost:8080/"
        },
        "id": "cKoA3LMn_C7F",
        "outputId": "1677cc56-6e67-4dca-82fe-4d44d51491c5"
      },
      "execution_count": 1,
      "outputs": [
        {
          "output_type": "stream",
          "name": "stdout",
          "text": [
            "4\n",
            "3\n",
            "1\n",
            "1.3333333333333333\n"
          ]
        }
      ]
    },
    {
      "cell_type": "markdown",
      "source": [
        "## Solution 2"
      ],
      "metadata": {
        "id": "Mipx9Pt5--72"
      }
    },
    {
      "cell_type": "code",
      "source": [
        "if __name__ == '__main__':\n",
        "    a = int(input())\n",
        "    b = int(input())\n",
        "\n",
        "    def division_int(x,y):\n",
        "        return x // y\n",
        "\n",
        "    def division_flt(x,y):\n",
        "        return x / y\n",
        "\n",
        "    print(division_int(a,b))\n",
        "    print(division_flt(a,b))"
      ],
      "metadata": {
        "colab": {
          "base_uri": "https://localhost:8080/"
        },
        "id": "VdW-rbFY_LE_",
        "outputId": "4c6bd8ac-a751-4599-8439-20293dd3a5a8"
      },
      "execution_count": 2,
      "outputs": [
        {
          "output_type": "stream",
          "name": "stdout",
          "text": [
            "4\n",
            "3\n",
            "1\n",
            "1.3333333333333333\n"
          ]
        }
      ]
    }
  ]
}