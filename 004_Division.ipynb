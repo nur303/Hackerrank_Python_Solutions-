{
  "nbformat": 4,
  "nbformat_minor": 0,
  "metadata": {
    "colab": {
      "provenance": [],
      "authorship_tag": "ABX9TyNMf06IVDbvGRWfbAw5Z1jp"
    },
    "kernelspec": {
      "name": "python3",
      "display_name": "Python 3"
    },
    "language_info": {
      "name": "python"
    }
  },
  "cells": [
    {
      "cell_type": "markdown",
      "source": [
        "# 004 - Division\n",
        "## Task\n",
        "Read two integers and print two lines. The first line should contain integer division,  `a` // `b` . The second line should contain float division,  `a`/`b` .\n",
        "\n",
        "You don't need to perform any rounding or formatting operations.\n",
        "\n",
        "#### Input Format\n",
        "\n",
        "The first line contains the first integer, `a`. The second line contains the second integer, `b`.\n",
        "\n",
        "\n",
        "#### Output Format\n",
        "\n",
        "Print the two lines as described above.\n",
        "\n",
        "```\n",
        "Sample Input :\n",
        "4\n",
        "3\n",
        "```\n",
        "\n",
        "```\n",
        "Sample Output :\n",
        "1\n",
        "1.33333333333\n",
        "```\n",
        "\n",
        "#### Given Code\n",
        "\n",
        "```python\n",
        "if __name__ == '__main__':\n",
        "    a = int(input())\n",
        "    b = int(input())\n",
        "```\n"
      ],
      "metadata": {
        "id": "CmeUJZupHAsj"
      }
    },
    {
      "cell_type": "markdown",
      "source": [
        "## **Solution** **1**"
      ],
      "metadata": {
        "id": "FkV5Nbj-HPzG"
      }
    },
    {
      "cell_type": "code",
      "source": [
        "if __name__ == '__main__':\n",
        "    a = int(input())\n",
        "    b = int(input())\n",
        "\n",
        "    print(int(a / b))\n",
        "    print(float(a / b))"
      ],
      "metadata": {
        "colab": {
          "base_uri": "https://localhost:8080/"
        },
        "id": "Eq2w1f-CHPNf",
        "outputId": "a680597f-265c-48cf-f0c5-b396d7ac9003"
      },
      "execution_count": 3,
      "outputs": [
        {
          "output_type": "stream",
          "name": "stdout",
          "text": [
            "4\n",
            "3\n",
            "1\n",
            "1.3333333333333333\n"
          ]
        }
      ]
    },
    {
      "cell_type": "markdown",
      "source": [
        "## **Solution** **2**"
      ],
      "metadata": {
        "id": "ZdYHZHWZHnqD"
      }
    },
    {
      "cell_type": "code",
      "source": [
        "if __name__ == '__main__':\n",
        "    a = int(input())\n",
        "    b = int(input())\n",
        "\n",
        "    def division_int(x,y):\n",
        "        return x // y\n",
        "\n",
        "    def division_flt(x,y):\n",
        "        return x / y\n",
        "\n",
        "    print(division_int(a,b))\n",
        "    print(division_flt(a,b))"
      ],
      "metadata": {
        "colab": {
          "base_uri": "https://localhost:8080/"
        },
        "id": "YJWRPLH2HwtE",
        "outputId": "0c42d090-f615-41fc-c98a-34f62c59092e"
      },
      "execution_count": 4,
      "outputs": [
        {
          "output_type": "stream",
          "name": "stdout",
          "text": [
            "4\n",
            "3\n",
            "1\n",
            "1.3333333333333333\n"
          ]
        }
      ]
    }
  ]
}