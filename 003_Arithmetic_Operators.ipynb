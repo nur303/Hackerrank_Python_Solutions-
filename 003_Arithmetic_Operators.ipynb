{
  "nbformat": 4,
  "nbformat_minor": 0,
  "metadata": {
    "colab": {
      "provenance": [],
      "authorship_tag": "ABX9TyMhAqQqqeYf3GuBBb+aiOn6"
    },
    "kernelspec": {
      "name": "python3",
      "display_name": "Python 3"
    },
    "language_info": {
      "name": "python"
    }
  },
  "cells": [
    {
      "cell_type": "markdown",
      "source": [
        "# 003 - Arithmetic Operators\n",
        "## Task\n",
        "\n",
        "Read two integers from STDIN and print three lines where:\n",
        "\n",
        "1. The first line contains the sum of the two numbers.\n",
        "2. The second line contains the difference of the two numbers (first - second).\n",
        "3. The third line contains the product of the two numbers.\n",
        "\n",
        "#### Input Format\n",
        "The first line contains the first integer, `a` . The second line contains the second integer,`b` .\n",
        "\n",
        "#### Constraints\n",
        "* 1 <= a <= 10<sup>10</sup>\n",
        "\n",
        "* 1 <= b <= 10<sup>10</sup>\n",
        "\n",
        "#### Output Format\n",
        "Print the three lines as explained above.\n",
        "\n",
        "```\n",
        "Sample Inputs\n",
        "3\n",
        "2\n",
        "```\n",
        "\n",
        "```\n",
        "Sample Output\n",
        "5\n",
        "1\n",
        "6\n",
        "```\n",
        "\n",
        "#### Explanation\n",
        "\n",
        "3 + 2 => 5\n",
        "3 - 2 => 1\n",
        "3 * 2 => 6\n",
        "\n",
        "\n",
        "#### Given Code\n",
        "\n",
        "```python\n",
        "if __name__ == '__main__':\n",
        "    a = int(input())\n",
        "    b = int(input())\n",
        "```"
      ],
      "metadata": {
        "id": "PwOPUV9KuM2Z"
      }
    },
    {
      "cell_type": "markdown",
      "source": [
        "**Solution 1**"
      ],
      "metadata": {
        "id": "QP1AUNDYuZiS"
      }
    },
    {
      "cell_type": "code",
      "execution_count": 1,
      "metadata": {
        "colab": {
          "base_uri": "https://localhost:8080/"
        },
        "id": "YKBwIpKEuLq-",
        "outputId": "44b27715-b8f5-4db1-ca99-97eecaf261a5"
      },
      "outputs": [
        {
          "output_type": "stream",
          "name": "stdout",
          "text": [
            "10\n",
            "10\n",
            "20\n",
            "0\n",
            "100\n"
          ]
        }
      ],
      "source": [
        "if __name__ == '__main__':\n",
        "    a = int(input())\n",
        "    b = int(input())\n",
        "\n",
        "    print(a + b)\n",
        "    print(a - b)\n",
        "    print(a * b)"
      ]
    },
    {
      "cell_type": "markdown",
      "source": [
        "**Solution 2**"
      ],
      "metadata": {
        "id": "FY7eqDiAuhfU"
      }
    },
    {
      "cell_type": "code",
      "source": [
        "if __name__ == '__main__':\n",
        "    a = int(input())\n",
        "    b = int(input())\n",
        "\n",
        "    def add_two(x,y):\n",
        "        return x + y\n",
        "\n",
        "    def ext_two(x,y):\n",
        "        return x - y\n",
        "\n",
        "    def mul_two(x,y):\n",
        "        return x * y\n",
        "\n",
        "    print(add_two(a,b))\n",
        "    print(ext_two(a,b))\n",
        "    print(mul_two(a,b))"
      ],
      "metadata": {
        "colab": {
          "base_uri": "https://localhost:8080/"
        },
        "id": "tYCuiu-surIr",
        "outputId": "f85a972a-dd5b-4e9f-fb46-57f189d8bfae"
      },
      "execution_count": 2,
      "outputs": [
        {
          "output_type": "stream",
          "name": "stdout",
          "text": [
            "20\n",
            "20\n",
            "40\n",
            "0\n",
            "400\n"
          ]
        }
      ]
    },
    {
      "cell_type": "markdown",
      "source": [],
      "metadata": {
        "id": "GAJgwT91w9nM"
      }
    },
    {
      "cell_type": "code",
      "source": [],
      "metadata": {
        "id": "a-RJpoHDxF2D"
      },
      "execution_count": null,
      "outputs": []
    }
  ]
}